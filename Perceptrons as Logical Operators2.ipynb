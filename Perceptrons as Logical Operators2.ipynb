{
 "cells": [
  {
   "cell_type": "code",
   "execution_count": 8,
   "id": "2f2ff22a",
   "metadata": {},
   "outputs": [],
   "source": [
    "import pandas as pd\n",
    "# Set weight1, weight2, and bias\n",
    "weight1=0\n",
    "weight2=-1\n",
    "bias=0"
   ]
  },
  {
   "cell_type": "code",
   "execution_count": 9,
   "id": "89b2775b",
   "metadata": {},
   "outputs": [],
   "source": [
    "# Inputs and outputs\n",
    "test_inputs=[(0,0),(0,1),(1,0),(1,1)]\n",
    "correct_outputs=[True,False,True,False]"
   ]
  },
  {
   "cell_type": "code",
   "execution_count": 10,
   "id": "6ef80d17",
   "metadata": {},
   "outputs": [],
   "source": [
    "# Generate and check output\n",
    "outputs=[]\n",
    "for test_input,correct_output in zip(test_inputs,correct_outputs):\n",
    "    linear_combination=weight1*test_input[0]+weight2*test_input[1]+bias\n",
    "    output=int(linear_combination>=0)\n",
    "    is_correct=\"Yes\" if output==correct_output else \"No\"\n",
    "    outputs.append([test_input[0],test_input[1],linear_combination,output,is_correct])"
   ]
  },
  {
   "cell_type": "code",
   "execution_count": 11,
   "id": "319a25d0",
   "metadata": {},
   "outputs": [
    {
     "name": "stdout",
     "output_type": "stream",
     "text": [
      "Nice!  You got it all correct.\n",
      "\n",
      " Input 1  Input 2  Linear Combination   Activation Output Is Correct\n",
      "       0        0                   0                   1        Yes\n",
      "       0        1                  -1                   0        Yes\n",
      "       1        0                   0                   1        Yes\n",
      "       1        1                  -1                   0        Yes\n"
     ]
    }
   ],
   "source": [
    "# Print output\n",
    "num_wrong=len([output[4] for output in outputs if output[4]==\"No\"])\n",
    "output_frame=pd.DataFrame(outputs,columns=['Input 1','Input 2','Linear Combination',' Activation Output','Is Correct'])\n",
    "if not num_wrong:\n",
    "    print('Nice!  You got it all correct.\\n')\n",
    "else:\n",
    "    print('You got {} wrong.  Keep trying!\\n'.format(num_wrong))\n",
    "print(output_frame.to_string(index=False))"
   ]
  },
  {
   "cell_type": "code",
   "execution_count": null,
   "id": "d43fced5",
   "metadata": {},
   "outputs": [],
   "source": []
  }
 ],
 "metadata": {
  "kernelspec": {
   "display_name": "Python 3 (ipykernel)",
   "language": "python",
   "name": "python3"
  },
  "language_info": {
   "codemirror_mode": {
    "name": "ipython",
    "version": 3
   },
   "file_extension": ".py",
   "mimetype": "text/x-python",
   "name": "python",
   "nbconvert_exporter": "python",
   "pygments_lexer": "ipython3",
   "version": "3.9.7"
  }
 },
 "nbformat": 4,
 "nbformat_minor": 5
}
